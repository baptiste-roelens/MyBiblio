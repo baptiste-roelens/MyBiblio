{
  "nbformat": 4,
  "nbformat_minor": 0,
  "metadata": {
    "colab": {
      "provenance": [],
      "gpuType": "V100",
      "mount_file_id": "1_kPUx1szMvZa-bIX4bOVB0GL0q7mShlx",
      "authorship_tag": "ABX9TyPOWBvN/fy5FWK9kvvaEh5Y",
      "include_colab_link": true
    },
    "kernelspec": {
      "name": "python3",
      "display_name": "Python 3"
    },
    "language_info": {
      "name": "python"
    },
    "accelerator": "GPU"
  },
  "cells": [
    {
      "cell_type": "markdown",
      "metadata": {
        "id": "view-in-github",
        "colab_type": "text"
      },
      "source": [
        "<a href=\"https://colab.research.google.com/github/baptiste-roelens/MyBiblio/blob/main/20240305_finetune_pubmedbert_for_biblio.ipynb\" target=\"_parent\"><img src=\"https://colab.research.google.com/assets/colab-badge.svg\" alt=\"Open In Colab\"/></a>"
      ]
    },
    {
      "cell_type": "code",
      "execution_count": null,
      "metadata": {
        "id": "UPhNIrOuEw25"
      },
      "outputs": [],
      "source": [
        "!pip install transformers evaluate accelerate datasets\n",
        "from huggingface_hub import notebook_login\n",
        "from transformers import AutoTokenizer\n",
        "\n",
        "notebook_login()\n",
        "\n",
        "tokenizer = AutoTokenizer.from_pretrained(\"microsoft/BiomedNLP-BiomedBERT-base-uncased-abstract-fulltext\")"
      ]
    },
    {
      "cell_type": "code",
      "source": [
        "from datasets import Dataset\n",
        "import pandas as pd\n",
        "\n",
        "df = pd.read_csv(\"/content/drive/MyDrive/WIP/Biblio/biblio2.tsv\", sep='\\t', encoding=\"ISO-8859-1\").dropna(subset=\"label\").dropna(subset=\"abstract\")\n",
        "df['label'] = df['label'].astype(int)\n",
        "df_dataset = df[[\"abstract\",\"label\"]]\n",
        "dataset = Dataset.from_pandas(df_dataset)\n",
        "dataset = dataset.remove_columns([\"__index_level_0__\"])\n",
        "\n",
        "dataset = dataset.train_test_split(test_size=0.2)"
      ],
      "metadata": {
        "id": "vggEWUgxOTjD"
      },
      "execution_count": null,
      "outputs": []
    },
    {
      "cell_type": "code",
      "source": [
        "from transformers import DataCollatorWithPadding\n",
        "import evaluate\n",
        "import numpy as np\n",
        "\n",
        "def preprocess_function(examples):\n",
        "    return tokenizer(examples[\"abstract\"], truncation=True, max_length=512)\n",
        "\n",
        "def compute_metrics(eval_pred):\n",
        "    predictions, labels = eval_pred\n",
        "    predictions = np.argmax(predictions, axis=1)\n",
        "    return accuracy.compute(predictions=predictions, references=labels)\n",
        "\n",
        "tokenized_bilio = dataset.map(preprocess_function, batched=True)\n",
        "\n",
        "data_collator = DataCollatorWithPadding(tokenizer=tokenizer)\n",
        "accuracy = evaluate.load(\"accuracy\")"
      ],
      "metadata": {
        "id": "4da8xV6jOtQE"
      },
      "execution_count": null,
      "outputs": []
    },
    {
      "cell_type": "code",
      "source": [
        "from transformers import AutoModelForSequenceClassification, TrainingArguments, Trainer\n",
        "\n",
        "id2label = {0: \"Not Relevant\", 1: \"Potentially Interesting\"}\n",
        "label2id = {\"Not Relevant\": 0, \"Potentially Interesting\": 1}\n",
        "\n",
        "model = AutoModelForSequenceClassification.from_pretrained(\n",
        "    \"microsoft/BiomedNLP-BiomedBERT-base-uncased-abstract-fulltext\", num_labels=2, id2label=id2label, label2id=label2id\n",
        ")\n",
        "\n",
        "training_args = TrainingArguments(\n",
        "    output_dir=\"PubMed_interests\",\n",
        "    learning_rate=2e-5,\n",
        "    per_device_train_batch_size=16,\n",
        "    per_device_eval_batch_size=16,\n",
        "    num_train_epochs=4,\n",
        "    weight_decay=0.01,\n",
        "    evaluation_strategy=\"epoch\",\n",
        "    save_strategy=\"epoch\",\n",
        "    load_best_model_at_end=True,\n",
        "    push_to_hub=True,\n",
        ")\n",
        "\n",
        "trainer = Trainer(\n",
        "    model=model,\n",
        "    args=training_args,\n",
        "    train_dataset=tokenized_bilio[\"train\"],\n",
        "    eval_dataset=tokenized_bilio[\"test\"],\n",
        "    tokenizer=tokenizer,\n",
        "    data_collator=data_collator,\n",
        "    compute_metrics=compute_metrics,\n",
        ")\n",
        "\n",
        "trainer.train()"
      ],
      "metadata": {
        "id": "L1M65J_oMbh7"
      },
      "execution_count": null,
      "outputs": []
    }
  ]
}